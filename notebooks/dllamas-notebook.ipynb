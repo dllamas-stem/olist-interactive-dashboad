{
 "cells": [
  {
   "cell_type": "code",
   "execution_count": 1,
   "id": "c7a56bb8",
   "metadata": {},
   "outputs": [],
   "source": [
    "import pandas as pd\n",
    "import matplotlib.pyplot as plt\n",
    "import seaborn as sns\n",
    "import numpy as np\n",
    "import streamlit as st"
   ]
  },
  {
   "cell_type": "code",
   "execution_count": 3,
   "id": "417416c6",
   "metadata": {},
   "outputs": [
    {
     "name": "stdout",
     "output_type": "stream",
     "text": [
      " El volumen de la unidad C es Windows\n",
      " El n�mero de serie del volumen es: A64F-3419\n",
      "\n",
      " Directorio de c:\\Users\\dllamas\\Desktop\\repo\\olist-interactive-dashboad\\notebooks\n",
      "\n",
      "13/05/2025  10:11    <DIR>          .\n",
      "13/05/2025  10:36    <DIR>          ..\n",
      "13/05/2025  10:11                 0 carlosmr-notebook.ipynb\n",
      "13/05/2025  10:56             1.216 dllamas-notebook.ipynb\n",
      "13/05/2025  10:11                 0 mballesteros-notebook.ipynb\n",
      "               3 archivos          1.216 bytes\n",
      "               2 dirs  429.458.984.960 bytes libres\n"
     ]
    }
   ],
   "source": [
    "!dir"
   ]
  },
  {
   "cell_type": "code",
   "execution_count": 8,
   "id": "9f64eb92",
   "metadata": {},
   "outputs": [],
   "source": [
    "dir_prefix = '../resources/data/olist_{}_dataset.csv'\n",
    "df_customers = pd.read_csv(dir_prefix.format('customers'), encoding='utf-8')\n",
    "df_order_items = pd.read_csv(dir_prefix.format('order_items'), encoding='utf-8')\n",
    "df_order_payments = pd.read_csv(dir_prefix.format('order_payments'), encoding='utf-8')\n",
    "df_order_reviews = pd.read_csv(dir_prefix.format('order_reviews'), encoding='utf-8')\n",
    "df_orders = pd.read_csv(dir_prefix.format('orders'), encoding='utf-8')\n",
    "df_products = pd.read_csv(dir_prefix.format('products'), encoding='utf-8')\n",
    "df_sellers = pd.read_csv(dir_prefix.format('sellers'), encoding='utf-8')\n",
    "df_translations = pd.read_csv('../resources/data/product_category_name_translation.csv', encoding='utf-8')"
   ]
  },
  {
   "cell_type": "markdown",
   "id": "7b4f8ee3",
   "metadata": {},
   "source": [
    "# vinicius rey do mundo"
   ]
  }
 ],
 "metadata": {
  "kernelspec": {
   "display_name": ".venv",
   "language": "python",
   "name": "python3"
  },
  "language_info": {
   "codemirror_mode": {
    "name": "ipython",
    "version": 3
   },
   "file_extension": ".py",
   "mimetype": "text/x-python",
   "name": "python",
   "nbconvert_exporter": "python",
   "pygments_lexer": "ipython3",
   "version": "3.11.9"
  }
 },
 "nbformat": 4,
 "nbformat_minor": 5
}
