{
 "cells": [
  {
   "cell_type": "code",
   "execution_count": 30,
   "id": "1670ed4e",
   "metadata": {},
   "outputs": [
    {
     "name": "stdout",
     "output_type": "stream",
     "text": [
      "clean_customers.csv\n",
      "clean_delivered_orders.csv\n",
      "clean_not_approved_orders.csv\n",
      "clean_not_delivered_orders.csv\n",
      "clean_not_picked_up_orders.csv\n",
      "clean_orders.csv\n",
      "clean_order_items.csv\n",
      "clean_order_payments.csv\n",
      "clean_order_reviews_review_comments_no_null.csv\n",
      "clean_products.csv\n",
      "clean_sellers.csv\n",
      "clean_translations.csv\n",
      "orders_by_customer.csv\n",
      "----------------------------------------------\n",
      "df_customers\n",
      "df_delivered_orders\n",
      "df_not_approved_orders\n",
      "df_not_delivered_orders\n",
      "df_not_picked_up_orders\n",
      "df_orders\n",
      "df_order_items\n",
      "df_order_payments\n",
      "df_order_reviews_review_comments_no_null\n",
      "df_products\n",
      "df_sellers\n",
      "df_translations\n",
      "df__by_customer\n"
     ]
    },
    {
     "data": {
      "text/plain": [
       "[None, None, None, None, None, None, None, None, None, None, None, None, None]"
      ]
     },
     "execution_count": 30,
     "metadata": {},
     "output_type": "execute_result"
    }
   ],
   "source": [
    "import os\n",
    "import pandas as pd\n",
    "\n",
    "all_csv = os.listdir('../resources/clean_data')\n",
    "\n",
    "variables_names = [f'df_{csv_name[6:-4]}' for csv_name in all_csv]\n",
    "[print(csv_name) for csv_name in all_csv]\n",
    "print('----------------------------------------------')\n",
    "[print(variable_name) for variable_name in variables_names]"
   ]
  },
  {
   "cell_type": "code",
   "execution_count": 31,
   "id": "e50fff54",
   "metadata": {},
   "outputs": [],
   "source": [
    "clean_data_dir_prefix = '../resources/clean_data/{}'\n",
    "df_customers = pd.read_csv(clean_data_dir_prefix.format('clean_customers.csv'), encoding='utf-8', sep=',')\n",
    "df_customers.name = 'df_customers'\n",
    "\n",
    "df_orders = pd.read_csv(clean_data_dir_prefix.format('clean_orders.csv'), encoding='utf-8', sep=',')\n",
    "df_orders.name = 'df_orders'\n",
    "\n",
    "df_delivered_orders = pd.read_csv(clean_data_dir_prefix.format('clean_delivered_orders.csv'), encoding='utf-8', sep=',')\n",
    "df_delivered_orders.name = 'df_delivered_orders'\n",
    "\n",
    "df_not_approved_orders = pd.read_csv(clean_data_dir_prefix.format('clean_not_approved_orders.csv'), encoding='utf-8', sep=',')\n",
    "df_not_approved_orders.name = 'df_not_approved_orders'\n",
    "\n",
    "df_not_delivered_orders = pd.read_csv(clean_data_dir_prefix.format('clean_not_delivered_orders.csv'), encoding='utf-8', sep=',')\n",
    "df_not_delivered_orders.name = 'df_not_delivered_orders'\n",
    "\n",
    "df_not_picked_up_orders = pd.read_csv(clean_data_dir_prefix.format('clean_not_picked_up_orders.csv'), encoding='utf-8', sep=',')\n",
    "df_not_picked_up_orders.name = 'df_not_picked_up_orders'\n",
    "\n",
    "df_order_items = pd.read_csv(clean_data_dir_prefix.format('clean_order_items.csv'), encoding='utf-8', sep=',')\n",
    "df_order_items.name = 'df_order_items'\n",
    "\n",
    "df_order_payments = pd.read_csv(clean_data_dir_prefix.format('clean_order_payments.csv'), encoding='utf-8', sep=',')\n",
    "df_order_payments.name = 'df_order_payments'\n",
    "\n",
    "df_order_reviews_review_comments_no_null = pd.read_csv(clean_data_dir_prefix.format('clean_order_reviews_review_comments_no_null.csv'), encoding='utf-8', sep=',')\n",
    "df_order_reviews_review_comments_no_null.name = 'df_order_reviews_review_comments_no_null'\n",
    "\n",
    "df_products = pd.read_csv(clean_data_dir_prefix.format('clean_products.csv'), encoding='utf-8', sep=',')\n",
    "df_products.name = 'df_products'\n",
    "\n",
    "df_sellers = pd.read_csv(clean_data_dir_prefix.format('clean_sellers.csv'), encoding='utf-8', sep=',')\n",
    "df_sellers.name = 'df_sellers'\n",
    "\n",
    "df_translations = pd.read_csv(clean_data_dir_prefix.format('clean_translations.csv'), encoding='utf-8', sep=',')\n",
    "df_translations.name = 'df_translations'\n"
   ]
  },
  {
   "cell_type": "code",
   "execution_count": 32,
   "id": "1c828cdf",
   "metadata": {},
   "outputs": [],
   "source": [
    "all_df = [df_customers,\n",
    "df_orders,\n",
    "df_delivered_orders,\n",
    "df_not_approved_orders,\n",
    "df_not_delivered_orders,\n",
    "df_not_picked_up_orders,\n",
    "df_order_items,\n",
    "df_order_payments,\n",
    "df_order_reviews_review_comments_no_null,\n",
    "df_products,\n",
    "df_sellers,\n",
    "df_translations]\n"
   ]
  },
  {
   "cell_type": "code",
   "execution_count": 33,
   "id": "2336a0d8",
   "metadata": {},
   "outputs": [
    {
     "name": "stdout",
     "output_type": "stream",
     "text": [
      "Nulos en df_customers ->\n",
      "customer_id                 0\n",
      "customer_unique_id          0\n",
      "customer_zip_code_prefix    0\n",
      "customer_city               0\n",
      "customer_state              0\n",
      "dtype: int64\n",
      "\n",
      "\n",
      "Nulos en df_orders ->\n",
      "order_id                            0\n",
      "customer_id                         0\n",
      "order_status                        0\n",
      "order_purchase_timestamp            0\n",
      "order_approved_at                 160\n",
      "order_delivered_carrier_date     1783\n",
      "order_delivered_customer_date    2965\n",
      "order_estimated_delivery_date       0\n",
      "dtype: int64\n",
      "\n",
      "\n",
      "Nulos en df_delivered_orders ->\n",
      "order_id                         0\n",
      "customer_id                      0\n",
      "order_status                     0\n",
      "order_purchase_timestamp         0\n",
      "order_approved_at                0\n",
      "order_delivered_carrier_date     0\n",
      "order_delivered_customer_date    0\n",
      "order_estimated_delivery_date    0\n",
      "dtype: int64\n",
      "\n",
      "\n",
      "Nulos en df_not_approved_orders ->\n",
      "order_id                           0\n",
      "customer_id                        0\n",
      "order_status                       0\n",
      "order_purchase_timestamp           0\n",
      "order_approved_at                160\n",
      "order_delivered_carrier_date     146\n",
      "order_delivered_customer_date    146\n",
      "order_estimated_delivery_date      0\n",
      "dtype: int64\n",
      "\n",
      "\n",
      "Nulos en df_not_delivered_orders ->\n",
      "order_id                            0\n",
      "customer_id                         0\n",
      "order_status                        0\n",
      "order_purchase_timestamp            0\n",
      "order_approved_at                 146\n",
      "order_delivered_carrier_date     1782\n",
      "order_delivered_customer_date    2965\n",
      "order_estimated_delivery_date       0\n",
      "dtype: int64\n",
      "\n",
      "\n",
      "Nulos en df_not_picked_up_orders ->\n",
      "order_id                            0\n",
      "customer_id                         0\n",
      "order_status                        0\n",
      "order_purchase_timestamp            0\n",
      "order_approved_at                 146\n",
      "order_delivered_carrier_date     1783\n",
      "order_delivered_customer_date    1782\n",
      "order_estimated_delivery_date       0\n",
      "dtype: int64\n",
      "\n",
      "\n",
      "Nulos en df_order_items ->\n",
      "order_id               0\n",
      "order_item_id          0\n",
      "product_id             0\n",
      "seller_id              0\n",
      "shipping_limit_date    0\n",
      "price                  0\n",
      "freight_value          0\n",
      "dtype: int64\n",
      "\n",
      "\n",
      "Nulos en df_order_payments ->\n",
      "order_id                0\n",
      "payment_sequential      0\n",
      "payment_type            0\n",
      "payment_installments    0\n",
      "payment_value           0\n",
      "dtype: int64\n",
      "\n",
      "\n",
      "Nulos en df_order_reviews_review_comments_no_null ->\n",
      "review_id                  0\n",
      "order_id                   0\n",
      "review_score               0\n",
      "review_comment_title       0\n",
      "review_comment_message     0\n",
      "review_creation_date       0\n",
      "review_answer_timestamp    0\n",
      "dtype: int64\n",
      "\n",
      "\n",
      "Nulos en df_products ->\n",
      "product_id                      0\n",
      "product_category_name         610\n",
      "product_name_lenght           610\n",
      "product_description_lenght    610\n",
      "product_photos_qty            610\n",
      "product_weight_g                2\n",
      "product_length_cm               2\n",
      "product_height_cm               2\n",
      "product_width_cm                2\n",
      "dtype: int64\n",
      "\n",
      "\n",
      "Nulos en df_sellers ->\n",
      "seller_id                 0\n",
      "seller_zip_code_prefix    0\n",
      "seller_city               0\n",
      "seller_state              0\n",
      "dtype: int64\n",
      "\n",
      "\n",
      "Nulos en df_translations ->\n",
      "product_category_name            0\n",
      "product_category_name_english    0\n",
      "dtype: int64\n",
      "\n",
      "\n"
     ]
    },
    {
     "data": {
      "text/plain": [
       "[None, None, None, None, None, None, None, None, None, None, None, None]"
      ]
     },
     "execution_count": 33,
     "metadata": {},
     "output_type": "execute_result"
    }
   ],
   "source": [
    "[print(f'Nulos en {df.name} ->\\n{df.isna().sum()}\\n\\n') for df in all_df]"
   ]
  },
  {
   "cell_type": "code",
   "execution_count": 34,
   "id": "2ea16e74",
   "metadata": {},
   "outputs": [
    {
     "name": "stdout",
     "output_type": "stream",
     "text": [
      "---- DF_CUSTOMERS ----\n",
      "\n",
      "<class 'pandas.core.frame.DataFrame'>\n",
      "RangeIndex: 99441 entries, 0 to 99440\n",
      "Data columns (total 5 columns):\n",
      " #   Column                    Non-Null Count  Dtype \n",
      "---  ------                    --------------  ----- \n",
      " 0   customer_id               99441 non-null  object\n",
      " 1   customer_unique_id        99441 non-null  object\n",
      " 2   customer_zip_code_prefix  99441 non-null  int64 \n",
      " 3   customer_city             99441 non-null  object\n",
      " 4   customer_state            99441 non-null  object\n",
      "dtypes: int64(1), object(4)\n",
      "memory usage: 3.8+ MB\n",
      "None\n",
      "\n",
      "---------------------------------------------\n",
      "\n",
      "---- DF_ORDERS ----\n",
      "\n",
      "<class 'pandas.core.frame.DataFrame'>\n",
      "RangeIndex: 99441 entries, 0 to 99440\n",
      "Data columns (total 8 columns):\n",
      " #   Column                         Non-Null Count  Dtype \n",
      "---  ------                         --------------  ----- \n",
      " 0   order_id                       99441 non-null  object\n",
      " 1   customer_id                    99441 non-null  object\n",
      " 2   order_status                   99441 non-null  object\n",
      " 3   order_purchase_timestamp       99441 non-null  object\n",
      " 4   order_approved_at              99281 non-null  object\n",
      " 5   order_delivered_carrier_date   97658 non-null  object\n",
      " 6   order_delivered_customer_date  96476 non-null  object\n",
      " 7   order_estimated_delivery_date  99441 non-null  object\n",
      "dtypes: object(8)\n",
      "memory usage: 6.1+ MB\n",
      "None\n",
      "\n",
      "---------------------------------------------\n",
      "\n",
      "---- DF_DELIVERED_ORDERS ----\n",
      "\n",
      "<class 'pandas.core.frame.DataFrame'>\n",
      "RangeIndex: 96461 entries, 0 to 96460\n",
      "Data columns (total 8 columns):\n",
      " #   Column                         Non-Null Count  Dtype \n",
      "---  ------                         --------------  ----- \n",
      " 0   order_id                       96461 non-null  object\n",
      " 1   customer_id                    96461 non-null  object\n",
      " 2   order_status                   96461 non-null  object\n",
      " 3   order_purchase_timestamp       96461 non-null  object\n",
      " 4   order_approved_at              96461 non-null  object\n",
      " 5   order_delivered_carrier_date   96461 non-null  object\n",
      " 6   order_delivered_customer_date  96461 non-null  object\n",
      " 7   order_estimated_delivery_date  96461 non-null  object\n",
      "dtypes: object(8)\n",
      "memory usage: 5.9+ MB\n",
      "None\n",
      "\n",
      "---------------------------------------------\n",
      "\n",
      "---- DF_NOT_APPROVED_ORDERS ----\n",
      "\n",
      "<class 'pandas.core.frame.DataFrame'>\n",
      "RangeIndex: 160 entries, 0 to 159\n",
      "Data columns (total 8 columns):\n",
      " #   Column                         Non-Null Count  Dtype  \n",
      "---  ------                         --------------  -----  \n",
      " 0   order_id                       160 non-null    object \n",
      " 1   customer_id                    160 non-null    object \n",
      " 2   order_status                   160 non-null    object \n",
      " 3   order_purchase_timestamp       160 non-null    object \n",
      " 4   order_approved_at              0 non-null      float64\n",
      " 5   order_delivered_carrier_date   14 non-null     object \n",
      " 6   order_delivered_customer_date  14 non-null     object \n",
      " 7   order_estimated_delivery_date  160 non-null    object \n",
      "dtypes: float64(1), object(7)\n",
      "memory usage: 10.1+ KB\n",
      "None\n",
      "\n",
      "---------------------------------------------\n",
      "\n",
      "---- DF_NOT_DELIVERED_ORDERS ----\n",
      "\n",
      "<class 'pandas.core.frame.DataFrame'>\n",
      "RangeIndex: 2965 entries, 0 to 2964\n",
      "Data columns (total 8 columns):\n",
      " #   Column                         Non-Null Count  Dtype  \n",
      "---  ------                         --------------  -----  \n",
      " 0   order_id                       2965 non-null   object \n",
      " 1   customer_id                    2965 non-null   object \n",
      " 2   order_status                   2965 non-null   object \n",
      " 3   order_purchase_timestamp       2965 non-null   object \n",
      " 4   order_approved_at              2819 non-null   object \n",
      " 5   order_delivered_carrier_date   1183 non-null   object \n",
      " 6   order_delivered_customer_date  0 non-null      float64\n",
      " 7   order_estimated_delivery_date  2965 non-null   object \n",
      "dtypes: float64(1), object(7)\n",
      "memory usage: 185.4+ KB\n",
      "None\n",
      "\n",
      "---------------------------------------------\n",
      "\n",
      "---- DF_NOT_PICKED_UP_ORDERS ----\n",
      "\n",
      "<class 'pandas.core.frame.DataFrame'>\n",
      "RangeIndex: 1783 entries, 0 to 1782\n",
      "Data columns (total 8 columns):\n",
      " #   Column                         Non-Null Count  Dtype  \n",
      "---  ------                         --------------  -----  \n",
      " 0   order_id                       1783 non-null   object \n",
      " 1   customer_id                    1783 non-null   object \n",
      " 2   order_status                   1783 non-null   object \n",
      " 3   order_purchase_timestamp       1783 non-null   object \n",
      " 4   order_approved_at              1637 non-null   object \n",
      " 5   order_delivered_carrier_date   0 non-null      float64\n",
      " 6   order_delivered_customer_date  1 non-null      object \n",
      " 7   order_estimated_delivery_date  1783 non-null   object \n",
      "dtypes: float64(1), object(7)\n",
      "memory usage: 111.6+ KB\n",
      "None\n",
      "\n",
      "---------------------------------------------\n",
      "\n",
      "---- DF_ORDER_ITEMS ----\n",
      "\n",
      "<class 'pandas.core.frame.DataFrame'>\n",
      "RangeIndex: 112650 entries, 0 to 112649\n",
      "Data columns (total 7 columns):\n",
      " #   Column               Non-Null Count   Dtype  \n",
      "---  ------               --------------   -----  \n",
      " 0   order_id             112650 non-null  object \n",
      " 1   order_item_id        112650 non-null  int64  \n",
      " 2   product_id           112650 non-null  object \n",
      " 3   seller_id            112650 non-null  object \n",
      " 4   shipping_limit_date  112650 non-null  object \n",
      " 5   price                112650 non-null  float64\n",
      " 6   freight_value        112650 non-null  float64\n",
      "dtypes: float64(2), int64(1), object(4)\n",
      "memory usage: 6.0+ MB\n",
      "None\n",
      "\n",
      "---------------------------------------------\n",
      "\n",
      "---- DF_ORDER_PAYMENTS ----\n",
      "\n",
      "<class 'pandas.core.frame.DataFrame'>\n",
      "RangeIndex: 103886 entries, 0 to 103885\n",
      "Data columns (total 5 columns):\n",
      " #   Column                Non-Null Count   Dtype  \n",
      "---  ------                --------------   -----  \n",
      " 0   order_id              103886 non-null  object \n",
      " 1   payment_sequential    103886 non-null  int64  \n",
      " 2   payment_type          103886 non-null  object \n",
      " 3   payment_installments  103886 non-null  int64  \n",
      " 4   payment_value         103886 non-null  float64\n",
      "dtypes: float64(1), int64(2), object(2)\n",
      "memory usage: 4.0+ MB\n",
      "None\n",
      "\n",
      "---------------------------------------------\n",
      "\n",
      "---- DF_ORDER_REVIEWS_REVIEW_COMMENTS_NO_NULL ----\n",
      "\n",
      "<class 'pandas.core.frame.DataFrame'>\n",
      "RangeIndex: 99224 entries, 0 to 99223\n",
      "Data columns (total 7 columns):\n",
      " #   Column                   Non-Null Count  Dtype \n",
      "---  ------                   --------------  ----- \n",
      " 0   review_id                99224 non-null  object\n",
      " 1   order_id                 99224 non-null  object\n",
      " 2   review_score             99224 non-null  int64 \n",
      " 3   review_comment_title     99224 non-null  object\n",
      " 4   review_comment_message   99224 non-null  object\n",
      " 5   review_creation_date     99224 non-null  object\n",
      " 6   review_answer_timestamp  99224 non-null  object\n",
      "dtypes: int64(1), object(6)\n",
      "memory usage: 5.3+ MB\n",
      "None\n",
      "\n",
      "---------------------------------------------\n",
      "\n",
      "---- DF_PRODUCTS ----\n",
      "\n",
      "<class 'pandas.core.frame.DataFrame'>\n",
      "RangeIndex: 32951 entries, 0 to 32950\n",
      "Data columns (total 9 columns):\n",
      " #   Column                      Non-Null Count  Dtype  \n",
      "---  ------                      --------------  -----  \n",
      " 0   product_id                  32951 non-null  object \n",
      " 1   product_category_name       32341 non-null  object \n",
      " 2   product_name_lenght         32341 non-null  float64\n",
      " 3   product_description_lenght  32341 non-null  float64\n",
      " 4   product_photos_qty          32341 non-null  float64\n",
      " 5   product_weight_g            32949 non-null  float64\n",
      " 6   product_length_cm           32949 non-null  float64\n",
      " 7   product_height_cm           32949 non-null  float64\n",
      " 8   product_width_cm            32949 non-null  float64\n",
      "dtypes: float64(7), object(2)\n",
      "memory usage: 2.3+ MB\n",
      "None\n",
      "\n",
      "---------------------------------------------\n",
      "\n",
      "---- DF_SELLERS ----\n",
      "\n",
      "<class 'pandas.core.frame.DataFrame'>\n",
      "RangeIndex: 3095 entries, 0 to 3094\n",
      "Data columns (total 4 columns):\n",
      " #   Column                  Non-Null Count  Dtype \n",
      "---  ------                  --------------  ----- \n",
      " 0   seller_id               3095 non-null   object\n",
      " 1   seller_zip_code_prefix  3095 non-null   int64 \n",
      " 2   seller_city             3095 non-null   object\n",
      " 3   seller_state            3095 non-null   object\n",
      "dtypes: int64(1), object(3)\n",
      "memory usage: 96.8+ KB\n",
      "None\n",
      "\n",
      "---------------------------------------------\n",
      "\n",
      "---- DF_TRANSLATIONS ----\n",
      "\n",
      "<class 'pandas.core.frame.DataFrame'>\n",
      "RangeIndex: 71 entries, 0 to 70\n",
      "Data columns (total 2 columns):\n",
      " #   Column                         Non-Null Count  Dtype \n",
      "---  ------                         --------------  ----- \n",
      " 0   product_category_name          71 non-null     object\n",
      " 1   product_category_name_english  71 non-null     object\n",
      "dtypes: object(2)\n",
      "memory usage: 1.2+ KB\n",
      "None\n",
      "\n",
      "---------------------------------------------\n",
      "\n"
     ]
    }
   ],
   "source": [
    "for df in all_df:\n",
    "    print(f\"---- {df.name.upper()} ----\", end='\\n\\n')\n",
    "    print(df.info())\n",
    "    print(\"\\n---------------------------------------------\\n\")"
   ]
  },
  {
   "cell_type": "code",
   "execution_count": 35,
   "id": "edcd0d6c",
   "metadata": {},
   "outputs": [
    {
     "data": {
      "text/plain": [
       "array(['customer_id', 'customer_unique_id', 'customer_zip_code_prefix',\n",
       "       'customer_city', 'customer_state'], dtype=object)"
      ]
     },
     "execution_count": 35,
     "metadata": {},
     "output_type": "execute_result"
    }
   ],
   "source": [
    "df_customers.columns.values"
   ]
  },
  {
   "cell_type": "code",
   "execution_count": 36,
   "id": "3f178eba",
   "metadata": {},
   "outputs": [
    {
     "data": {
      "text/plain": [
       "array(['order_id', 'customer_id', 'order_status',\n",
       "       'order_purchase_timestamp', 'order_approved_at',\n",
       "       'order_delivered_carrier_date', 'order_delivered_customer_date',\n",
       "       'order_estimated_delivery_date'], dtype=object)"
      ]
     },
     "execution_count": 36,
     "metadata": {},
     "output_type": "execute_result"
    }
   ],
   "source": [
    "df_orders.columns.values"
   ]
  },
  {
   "cell_type": "markdown",
   "id": "d951f922",
   "metadata": {},
   "source": [
    "# Parsear las columnas con fechas a ftype de fecha"
   ]
  },
  {
   "cell_type": "code",
   "execution_count": 43,
   "id": "3d7471a6",
   "metadata": {},
   "outputs": [
    {
     "name": "stdout",
     "output_type": "stream",
     "text": [
      "Buscando fechas en df_customers: \n",
      "No se han encontrado columnas de Fechas\n",
      "\n",
      "Buscando fechas en df_orders: \n",
      "Se encontraron columnas con fechas,\n",
      "['order_purchase_timestamp', 'order_approved_at', 'order_delivered_carrier_date', 'order_delivered_customer_date', 'order_estimated_delivery_date']\n",
      "Parseando order_purchase_timestamp\n",
      "Parseando order_approved_at\n",
      "Parseando order_delivered_carrier_date\n",
      "Parseando order_delivered_customer_date\n",
      "Parseando order_estimated_delivery_date\n",
      "\n",
      "Buscando fechas en df_delivered_orders: \n",
      "Se encontraron columnas con fechas,\n",
      "['order_purchase_timestamp', 'order_approved_at', 'order_delivered_carrier_date', 'order_delivered_customer_date', 'order_estimated_delivery_date']\n",
      "Parseando order_purchase_timestamp\n",
      "Parseando order_approved_at\n",
      "Parseando order_delivered_carrier_date\n",
      "Parseando order_delivered_customer_date\n",
      "Parseando order_estimated_delivery_date\n",
      "\n",
      "Buscando fechas en df_not_approved_orders: \n",
      "Se encontraron columnas con fechas,\n",
      "['order_purchase_timestamp', 'order_delivered_carrier_date', 'order_delivered_customer_date', 'order_estimated_delivery_date']\n",
      "Parseando order_purchase_timestamp\n",
      "Parseando order_delivered_carrier_date\n",
      "Parseando order_delivered_customer_date\n",
      "Parseando order_estimated_delivery_date\n",
      "\n",
      "Buscando fechas en df_not_delivered_orders: \n",
      "Se encontraron columnas con fechas,\n",
      "['order_purchase_timestamp', 'order_approved_at', 'order_delivered_carrier_date', 'order_estimated_delivery_date']\n",
      "Parseando order_purchase_timestamp\n",
      "Parseando order_approved_at\n",
      "Parseando order_delivered_carrier_date\n",
      "Parseando order_estimated_delivery_date\n",
      "\n",
      "Buscando fechas en df_not_picked_up_orders: \n",
      "Se encontraron columnas con fechas,\n",
      "['order_purchase_timestamp', 'order_approved_at', 'order_delivered_customer_date', 'order_estimated_delivery_date']\n",
      "Parseando order_purchase_timestamp\n",
      "Parseando order_approved_at\n",
      "Parseando order_delivered_customer_date\n",
      "Parseando order_estimated_delivery_date\n",
      "\n",
      "Buscando fechas en df_order_items: \n",
      "Se encontraron columnas con fechas,\n",
      "['shipping_limit_date']\n",
      "Parseando shipping_limit_date\n",
      "\n",
      "Buscando fechas en df_order_payments: \n",
      "No se han encontrado columnas de Fechas\n",
      "\n",
      "Buscando fechas en df_order_reviews_review_comments_no_null: \n",
      "Se encontraron columnas con fechas,\n",
      "['review_creation_date', 'review_answer_timestamp']\n",
      "Parseando review_creation_date\n",
      "Parseando review_answer_timestamp\n",
      "\n",
      "Buscando fechas en df_products: \n",
      "No se han encontrado columnas de Fechas\n",
      "\n",
      "Buscando fechas en df_sellers: \n",
      "No se han encontrado columnas de Fechas\n",
      "\n",
      "Buscando fechas en df_translations: \n",
      "No se han encontrado columnas de Fechas\n",
      "\n"
     ]
    }
   ],
   "source": [
    "names_to_find = {'at', 'timestamp', 'date'}\n",
    "names_to_exclude = {'state', 'status', 'category'}\n",
    "\n",
    "for df in all_df:\n",
    "    print(f\"Buscando fechas en {df.name}: \")\n",
    "    string_columns = df.select_dtypes(['object', 'string']).columns.values\n",
    "    date_columns = [column for column in string_columns if \n",
    "        ((any(include in column.lower() for include in names_to_find)) \n",
    "            and not\n",
    "         (any(exclude in column.lower() for exclude in names_to_exclude))\n",
    "        ) ]\n",
    "\n",
    "        \n",
    "    if date_columns:\n",
    "        print(f\"Se encontraron columnas con fechas,\\n{date_columns}\")\n",
    "        for column in date_columns:\n",
    "            print(f\"Parseando {column}\")\n",
    "            df[column] = pd.to_datetime(df[column])\n",
    "\n",
    "    else:\n",
    "        print(\"No se han encontrado columnas de Fechas\")\n",
    "\n",
    "    print()\n",
    "    \n",
    "        "
   ]
  },
  {
   "cell_type": "markdown",
   "id": "72725c8f",
   "metadata": {},
   "source": [
    "# **Generar nuevas métricas**"
   ]
  },
  {
   "cell_type": "markdown",
   "id": "f7bceb35",
   "metadata": {},
   "source": [
    "#### - Métrica sobre que día de la semana se venden más y menos (Si ordenamos por ventas descendientes, head(1) el mejor, tail(1) el peor).\n"
   ]
  },
  {
   "cell_type": "code",
   "execution_count": 44,
   "id": "9a982e0c",
   "metadata": {},
   "outputs": [
    {
     "data": {
      "text/plain": [
       "0    Monday\n",
       "Name: order_purchase_timestamp, dtype: object"
      ]
     },
     "execution_count": 44,
     "metadata": {},
     "output_type": "execute_result"
    }
   ],
   "source": [
    "most_selled_day_of_week_name = df_orders['order_purchase_timestamp'].dt.day_name().mode()\n",
    "most_selled_day_of_week_name"
   ]
  },
  {
   "cell_type": "markdown",
   "id": "f474f5f4",
   "metadata": {},
   "source": [
    "#### - Métrica sobre que semana del mes se venden más y menos (Si ordenamos por ventas descendientes, head(1) el mejor, tail(1) el peor).\n"
   ]
  },
  {
   "cell_type": "code",
   "execution_count": 45,
   "id": "a0b95b54",
   "metadata": {},
   "outputs": [
    {
     "data": {
      "text/plain": [
       "0    2\n",
       "Name: order_purchase_timestamp, dtype: int32"
      ]
     },
     "execution_count": 45,
     "metadata": {},
     "output_type": "execute_result"
    }
   ],
   "source": [
    "get_week_number = lambda day: day // 7\n",
    "most_selled_week = get_week_number(day=df_orders['order_purchase_timestamp'].dt.day).mode()\n",
    "most_selled_week"
   ]
  },
  {
   "cell_type": "markdown",
   "id": "701c03da",
   "metadata": {},
   "source": [
    "#### - Métrica sobre que mes se venden más y menos (Si ordenamos por ventas descendientes, head(1) el mejor, tail(1) el peor).\n"
   ]
  },
  {
   "cell_type": "code",
   "execution_count": 46,
   "id": "d801fa77",
   "metadata": {},
   "outputs": [
    {
     "data": {
      "text/plain": [
       "0    August\n",
       "Name: order_purchase_timestamp, dtype: object"
      ]
     },
     "execution_count": 46,
     "metadata": {},
     "output_type": "execute_result"
    }
   ],
   "source": [
    "most_selled_month_name = df_orders['order_purchase_timestamp'].dt.month_name().mode()\n",
    "most_selled_month_name"
   ]
  },
  {
   "cell_type": "markdown",
   "id": "caba5b62",
   "metadata": {},
   "source": [
    "#### - Al mergear orders y products, puede que salgan productos que no se han vendido nunca, comprobar y si es buena métrica añadir.\n"
   ]
  },
  {
   "cell_type": "code",
   "execution_count": 47,
   "id": "12b5919b",
   "metadata": {},
   "outputs": [
    {
     "data": {
      "text/plain": [
       "['both']\n",
       "Categories (3, object): ['left_only', 'right_only', 'both']"
      ]
     },
     "execution_count": 47,
     "metadata": {},
     "output_type": "execute_result"
    }
   ],
   "source": [
    "df_merged = pd.merge(\n",
    "    left=df_order_items,\n",
    "    left_on='product_id',\n",
    "    right=df_products,\n",
    "    right_on='product_id',\n",
    "    how='left',\n",
    "    indicator=True\n",
    "    )\n",
    "\n",
    "df_merged['_merge'].unique()\n",
    "# df_merged[df_merged['_merge'] == 'right_only']\n",
    "\n",
    "# Pues no, no hay productos que no se hayan vendido nunca."
   ]
  },
  {
   "cell_type": "markdown",
   "id": "3af1e726",
   "metadata": {},
   "source": [
    "#### - Dia con más ventas"
   ]
  },
  {
   "cell_type": "code",
   "execution_count": 48,
   "id": "8e22e0f2",
   "metadata": {},
   "outputs": [
    {
     "data": {
      "application/vnd.microsoft.datawrangler.viewer.v0+json": {
       "columns": [
        {
         "name": "index",
         "rawType": "int64",
         "type": "integer"
        },
        {
         "name": "order_id",
         "rawType": "object",
         "type": "string"
        },
        {
         "name": "customer_id",
         "rawType": "object",
         "type": "string"
        },
        {
         "name": "order_status",
         "rawType": "object",
         "type": "string"
        },
        {
         "name": "order_purchase_timestamp",
         "rawType": "datetime64[ns]",
         "type": "datetime"
        },
        {
         "name": "order_approved_at",
         "rawType": "datetime64[ns]",
         "type": "datetime"
        },
        {
         "name": "order_delivered_carrier_date",
         "rawType": "datetime64[ns]",
         "type": "datetime"
        },
        {
         "name": "order_delivered_customer_date",
         "rawType": "datetime64[ns]",
         "type": "datetime"
        },
        {
         "name": "order_estimated_delivery_date",
         "rawType": "datetime64[ns]",
         "type": "datetime"
        },
        {
         "name": "order_purchase_timestamp_date",
         "rawType": "object",
         "type": "unknown"
        }
       ],
       "conversionMethod": "pd.DataFrame",
       "ref": "deaa5bc5-dd7a-4b1b-a763-d91f0456eecc",
       "rows": [
        [
         "0",
         "e481f51cbdc54678b7cc49136f2d6af7",
         "9ef432eb6251297304e76186b10a928d",
         "delivered",
         "2017-10-02 10:56:33",
         "2017-10-02 11:07:15",
         "2017-10-04 19:55:00",
         "2017-10-10 21:25:13",
         "2017-10-18 00:00:00",
         "2017-10-02"
        ],
        [
         "1",
         "53cdb2fc8bc7dce0b6741e2150273451",
         "b0830fb4747a6c6d20dea0b8c802d7ef",
         "delivered",
         "2018-07-24 20:41:37",
         "2018-07-26 03:24:27",
         "2018-07-26 14:31:00",
         "2018-08-07 15:27:45",
         "2018-08-13 00:00:00",
         "2018-07-24"
        ],
        [
         "2",
         "47770eb9100c2d0c44946d9cf07ec65d",
         "41ce2a54c0b03bf3443c3d931a367089",
         "delivered",
         "2018-08-08 08:38:49",
         "2018-08-08 08:55:23",
         "2018-08-08 13:50:00",
         "2018-08-17 18:06:29",
         "2018-09-04 00:00:00",
         "2018-08-08"
        ],
        [
         "3",
         "949d5b44dbf5de918fe9c16f97b45f8a",
         "f88197465ea7920adcdbec7375364d82",
         "delivered",
         "2017-11-18 19:28:06",
         "2017-11-18 19:45:59",
         "2017-11-22 13:39:59",
         "2017-12-02 00:28:42",
         "2017-12-15 00:00:00",
         "2017-11-18"
        ],
        [
         "4",
         "ad21c59c0840e6cb83a9ceb5573f8159",
         "8ab97904e6daea8866dbdbc4fb7aad2c",
         "delivered",
         "2018-02-13 21:18:39",
         "2018-02-13 22:20:29",
         "2018-02-14 19:46:34",
         "2018-02-16 18:17:02",
         "2018-02-26 00:00:00",
         "2018-02-13"
        ],
        [
         "5",
         "a4591c265e18cb1dcee52889e2d8acc3",
         "503740e9ca751ccdda7ba28e9ab8f608",
         "delivered",
         "2017-07-09 21:57:05",
         "2017-07-09 22:10:13",
         "2017-07-11 14:58:04",
         "2017-07-26 10:57:55",
         "2017-08-01 00:00:00",
         "2017-07-09"
        ],
        [
         "6",
         "136cce7faa42fdb2cefd53fdc79a6098",
         "ed0271e0b7da060a393796590e7b737a",
         "invoiced",
         "2017-04-11 12:22:08",
         "2017-04-13 13:25:17",
         null,
         null,
         "2017-05-09 00:00:00",
         "2017-04-11"
        ],
        [
         "7",
         "6514b8ad8028c9f2cc2374ded245783f",
         "9bdf08b4b3b52b5526ff42d37d47f222",
         "delivered",
         "2017-05-16 13:10:30",
         "2017-05-16 13:22:11",
         "2017-05-22 10:07:46",
         "2017-05-26 12:55:51",
         "2017-06-07 00:00:00",
         "2017-05-16"
        ],
        [
         "8",
         "76c6e866289321a7c93b82b54852dc33",
         "f54a9f0e6b351c431402b8461ea51999",
         "delivered",
         "2017-01-23 18:29:09",
         "2017-01-25 02:50:47",
         "2017-01-26 14:16:31",
         "2017-02-02 14:08:10",
         "2017-03-06 00:00:00",
         "2017-01-23"
        ],
        [
         "9",
         "e69bfb5eb88e0ed6a785585b27e16dbf",
         "31ad1d1b63eb9962463f764d4e6e0c9d",
         "delivered",
         "2017-07-29 11:55:02",
         "2017-07-29 12:05:32",
         "2017-08-10 19:45:24",
         "2017-08-16 17:14:30",
         "2017-08-23 00:00:00",
         "2017-07-29"
        ],
        [
         "10",
         "e6ce16cb79ec1d90b1da9085a6118aeb",
         "494dded5b201313c64ed7f100595b95c",
         "delivered",
         "2017-05-16 19:41:10",
         "2017-05-16 19:50:18",
         "2017-05-18 11:40:40",
         "2017-05-29 11:18:31",
         "2017-06-07 00:00:00",
         "2017-05-16"
        ],
        [
         "11",
         "34513ce0c4fab462a55830c0989c7edb",
         "7711cf624183d843aafe81855097bc37",
         "delivered",
         "2017-07-13 19:58:11",
         "2017-07-13 20:10:08",
         "2017-07-14 18:43:29",
         "2017-07-19 14:04:48",
         "2017-08-08 00:00:00",
         "2017-07-13"
        ],
        [
         "12",
         "82566a660a982b15fb86e904c8d32918",
         "d3e3b74c766bc6214e0c830b17ee2341",
         "delivered",
         "2018-06-07 10:06:19",
         "2018-06-09 03:13:12",
         "2018-06-11 13:29:00",
         "2018-06-19 12:05:52",
         "2018-07-18 00:00:00",
         "2018-06-07"
        ],
        [
         "13",
         "5ff96c15d0b717ac6ad1f3d77225a350",
         "19402a48fe860416adf93348aba37740",
         "delivered",
         "2018-07-25 17:44:10",
         "2018-07-25 17:55:14",
         "2018-07-26 13:16:00",
         "2018-07-30 15:52:25",
         "2018-08-08 00:00:00",
         "2018-07-25"
        ],
        [
         "14",
         "432aaf21d85167c2c86ec9448c4e42cc",
         "3df704f53d3f1d4818840b34ec672a9f",
         "delivered",
         "2018-03-01 14:14:28",
         "2018-03-01 15:10:47",
         "2018-03-02 21:09:20",
         "2018-03-12 23:36:26",
         "2018-03-21 00:00:00",
         "2018-03-01"
        ],
        [
         "15",
         "dcb36b511fcac050b97cd5c05de84dc3",
         "3b6828a50ffe546942b7a473d70ac0fc",
         "delivered",
         "2018-06-07 19:03:12",
         "2018-06-12 23:31:02",
         "2018-06-11 14:54:00",
         "2018-06-21 15:34:32",
         "2018-07-04 00:00:00",
         "2018-06-07"
        ],
        [
         "16",
         "403b97836b0c04a622354cf531062e5f",
         "738b086814c6fcc74b8cc583f8516ee3",
         "delivered",
         "2018-01-02 19:00:43",
         "2018-01-02 19:09:04",
         "2018-01-03 18:19:09",
         "2018-01-20 01:38:59",
         "2018-02-06 00:00:00",
         "2018-01-02"
        ],
        [
         "17",
         "116f0b09343b49556bbad5f35bee0cdf",
         "3187789bec990987628d7a9beb4dd6ac",
         "delivered",
         "2017-12-26 23:41:31",
         "2017-12-26 23:50:22",
         "2017-12-28 18:33:05",
         "2018-01-08 22:36:36",
         "2018-01-29 00:00:00",
         "2017-12-26"
        ],
        [
         "18",
         "85ce859fd6dc634de8d2f1e290444043",
         "059f7fc5719c7da6cbafe370971a8d70",
         "delivered",
         "2017-11-21 00:03:41",
         "2017-11-21 00:14:22",
         "2017-11-23 21:32:26",
         "2017-11-27 18:28:00",
         "2017-12-11 00:00:00",
         "2017-11-21"
        ],
        [
         "19",
         "83018ec114eee8641c97e08f7b4e926f",
         "7f8c8b9c2ae27bf3300f670c3d478be8",
         "delivered",
         "2017-10-26 15:54:26",
         "2017-10-26 16:08:14",
         "2017-10-26 21:46:53",
         "2017-11-08 22:22:00",
         "2017-11-23 00:00:00",
         "2017-10-26"
        ],
        [
         "20",
         "203096f03d82e0dffbc41ebc2e2bcfb7",
         "d2b091571da224a1b36412c18bc3bbfe",
         "delivered",
         "2017-09-18 14:31:30",
         "2017-09-19 04:04:09",
         "2017-10-06 17:50:03",
         "2017-10-09 22:23:46",
         "2017-09-28 00:00:00",
         "2017-09-18"
        ],
        [
         "21",
         "f848643eec1d69395095eb3840d2051e",
         "4fa1cd166fa598be6de80fa84eaade43",
         "delivered",
         "2018-03-15 08:52:40",
         "2018-03-15 09:09:31",
         "2018-03-15 19:52:48",
         "2018-03-19 18:08:32",
         "2018-03-29 00:00:00",
         "2018-03-15"
        ],
        [
         "22",
         "2807d0e504d6d4894d41672727bc139f",
         "72ae281627a6102d9b3718528b420f8a",
         "delivered",
         "2018-02-03 20:37:35",
         "2018-02-03 20:50:22",
         "2018-02-05 22:37:28",
         "2018-02-08 16:13:46",
         "2018-02-21 00:00:00",
         "2018-02-03"
        ],
        [
         "23",
         "95266dbfb7e20354baba07964dac78d5",
         "a166da34890074091a942054b36e4265",
         "delivered",
         "2018-01-08 07:55:29",
         "2018-01-08 08:07:31",
         "2018-01-24 23:16:37",
         "2018-01-26 17:32:38",
         "2018-02-21 00:00:00",
         "2018-01-08"
        ],
        [
         "24",
         "f3e7c359154d965827355f39d6b1fdac",
         "62b423aab58096ca514ba6aa06be2f98",
         "delivered",
         "2018-08-09 11:44:40",
         "2018-08-10 03:24:51",
         "2018-08-10 12:29:00",
         "2018-08-13 18:24:27",
         "2018-08-17 00:00:00",
         "2018-08-09"
        ],
        [
         "25",
         "fbf9ac61453ac646ce8ad9783d7d0af6",
         "3a874b4d4c4b6543206ff5d89287f0c3",
         "delivered",
         "2018-02-20 23:46:53",
         "2018-02-22 02:30:46",
         "2018-02-26 22:25:22",
         "2018-03-21 22:03:54",
         "2018-03-12 00:00:00",
         "2018-02-20"
        ],
        [
         "26",
         "acce194856392f074dbf9dada14d8d82",
         "7e20bf5ca92da68200643bda76c504c6",
         "delivered",
         "2018-06-04 00:00:13",
         "2018-06-05 00:35:10",
         "2018-06-05 13:24:00",
         "2018-06-16 15:20:55",
         "2018-07-18 00:00:00",
         "2018-06-04"
        ],
        [
         "27",
         "dd78f560c270f1909639c11b925620ea",
         "8b212b9525f9e74e85e37ed6df37693e",
         "delivered",
         "2018-03-12 01:50:26",
         "2018-03-12 03:28:34",
         "2018-03-12 21:06:37",
         "2018-03-21 14:41:50",
         "2018-03-28 00:00:00",
         "2018-03-12"
        ],
        [
         "28",
         "91b2a010e1e45e6ba3d133fa997597be",
         "cce89a605105b148387c52e286ac8335",
         "delivered",
         "2018-05-02 11:45:38",
         "2018-05-03 12:55:01",
         "2018-05-10 16:16:00",
         "2018-05-16 20:56:24",
         "2018-05-23 00:00:00",
         "2018-05-02"
        ],
        [
         "29",
         "ecab90c9933c58908d3d6add7c6f5ae3",
         "761df82feda9778854c6dafdaeb567e4",
         "delivered",
         "2018-02-25 13:50:30",
         "2018-02-25 14:47:35",
         "2018-02-26 22:28:50",
         "2018-03-27 23:29:14",
         "2018-04-13 00:00:00",
         "2018-02-25"
        ],
        [
         "30",
         "f70a0aff17df5a6cdd9a7196128bd354",
         "456dc10730fbdba34615447ea195d643",
         "delivered",
         "2017-08-10 11:58:33",
         "2017-08-12 02:45:24",
         "2017-08-17 15:35:07",
         "2017-08-18 14:28:02",
         "2017-08-23 00:00:00",
         "2017-08-10"
        ],
        [
         "31",
         "1790eea0b567cf50911c057cf20f90f9",
         "52142aa69d8d0e1247ab0cada0f76023",
         "delivered",
         "2018-04-16 21:15:39",
         "2018-04-16 22:10:26",
         "2018-04-18 13:05:09",
         "2018-05-05 12:28:34",
         "2018-05-15 00:00:00",
         "2018-04-16"
        ],
        [
         "32",
         "989225ba6d0ebd5873335f7e01de2ae7",
         "816f8653d5361cbf94e58c33f2502a5c",
         "delivered",
         "2017-12-12 13:56:04",
         "2017-12-14 13:54:13",
         "2017-12-16 00:18:57",
         "2018-01-03 18:03:36",
         "2018-01-08 00:00:00",
         "2017-12-12"
        ],
        [
         "33",
         "d887b52c6516beb39e8cd44a5f8b60f7",
         "d9ef95f98d8da3b492bb8c0447910498",
         "delivered",
         "2018-02-03 12:38:58",
         "2018-02-03 12:50:30",
         "2018-02-05 21:26:53",
         "2018-02-22 00:07:55",
         "2018-03-07 00:00:00",
         "2018-02-03"
        ],
        [
         "34",
         "b276e4f8c0fb86bd82fce576f21713e0",
         "cf8ffeddf027932e51e4eae73b384059",
         "delivered",
         "2018-07-29 23:34:51",
         "2018-07-29 23:45:15",
         "2018-07-30 14:43:00",
         "2018-07-31 22:48:50",
         "2018-08-06 00:00:00",
         "2018-07-29"
        ],
        [
         "35",
         "8563039e855156e48fccee4d611a3196",
         "5f16605299d698660e0606f7eae2d2f9",
         "delivered",
         "2018-02-17 15:59:46",
         "2018-02-17 16:15:34",
         "2018-02-20 23:03:56",
         "2018-03-20 00:59:25",
         "2018-03-20 00:00:00",
         "2018-02-17"
        ],
        [
         "36",
         "60550084e6b4c0cb89a87df1f3e5ebd9",
         "f5458ddc3545711efa883dd7ae7c4497",
         "delivered",
         "2018-02-21 18:15:12",
         "2018-02-23 02:10:52",
         "2018-02-27 18:52:09",
         "2018-03-13 23:58:43",
         "2018-03-29 00:00:00",
         "2018-02-21"
        ],
        [
         "37",
         "5acce57f8d9dfd55fa48e212a641a69d",
         "295ae9b35379e077273387ff64354b6f",
         "delivered",
         "2017-07-31 21:37:10",
         "2017-08-02 02:56:02",
         "2017-08-03 18:32:48",
         "2017-08-08 21:24:41",
         "2017-08-22 00:00:00",
         "2017-07-31"
        ],
        [
         "38",
         "434d158e96bdd6972ad6e6d73ddcfd22",
         "2a1dfb647f32f4390e7b857c67458536",
         "delivered",
         "2018-06-01 12:23:13",
         "2018-06-05 03:35:15",
         "2018-06-08 11:49:00",
         "2018-06-18 21:32:52",
         "2018-07-17 00:00:00",
         "2018-06-01"
        ],
        [
         "39",
         "7206b86ea789983f7a273ea7fa0bc2a8",
         "3391c4bc11a817e7973e498b0b023158",
         "delivered",
         "2018-03-26 17:12:18",
         "2018-03-26 17:28:27",
         "2018-03-28 17:22:53",
         "2018-04-05 22:11:18",
         "2018-04-12 00:00:00",
         "2018-03-26"
        ],
        [
         "40",
         "1e7aff52cdbb2451ace09d0f848c3699",
         "ddaff536587109b89777e0353215e150",
         "delivered",
         "2017-05-19 18:53:40",
         "2017-05-19 19:05:17",
         "2017-05-22 10:16:07",
         "2017-05-31 13:58:46",
         "2017-06-12 00:00:00",
         "2017-05-19"
        ],
        [
         "41",
         "6ea2f835b4556291ffdc53fa0b3b95e8",
         "c7340080e394356141681bd4c9b8fe31",
         "delivered",
         "2017-11-24 21:27:48",
         "2017-11-25 00:21:09",
         "2017-12-13 21:14:05",
         "2017-12-28 18:59:23",
         "2017-12-21 00:00:00",
         "2017-11-24"
        ],
        [
         "42",
         "948097deef559c742e7ce321e5e58919",
         "8644be24d48806bc3a88fd59fb47ceb1",
         "delivered",
         "2017-08-04 17:10:39",
         "2017-08-04 17:25:11",
         "2017-08-07 17:52:01",
         "2017-08-12 14:08:40",
         "2017-09-01 00:00:00",
         "2017-08-04"
        ],
        [
         "43",
         "d22e9fa5731b9e30e8b27afcdc2f8563",
         "756fb9391752dad934e0fe3733378e57",
         "delivered",
         "2018-08-04 23:25:30",
         "2018-08-04 23:35:13",
         "2018-08-06 15:03:00",
         "2018-08-13 23:34:42",
         "2018-09-13 00:00:00",
         "2018-08-04"
        ],
        [
         "44",
         "ee64d42b8cf066f35eac1cf57de1aa85",
         "caded193e8e47b8362864762a83db3c5",
         "shipped",
         "2018-06-04 16:44:48",
         "2018-06-05 04:31:18",
         "2018-06-05 14:32:00",
         null,
         "2018-06-28 00:00:00",
         "2018-06-04"
        ],
        [
         "45",
         "6ebaec694d7025e2ad4a05dba887c032",
         "4f28355e5c17a4a42d3ce2439a1d4501",
         "delivered",
         "2017-05-18 13:55:47",
         "2017-05-18 14:05:17",
         "2017-05-19 12:01:38",
         "2017-05-29 12:47:20",
         "2017-06-09 00:00:00",
         "2017-05-18"
        ],
        [
         "46",
         "d17dc4a904426827ca80f2ccb3a6be56",
         "569cf68214806a39acc0f39344aea67f",
         "delivered",
         "2017-05-14 20:28:25",
         "2017-05-14 20:42:45",
         "2017-05-16 08:17:46",
         "2017-05-25 09:14:31",
         "2017-06-12 00:00:00",
         "2017-05-14"
        ],
        [
         "47",
         "25f4376934e13d3508486352e11a5db0",
         "12fd2740039676063a874b9567dfa651",
         "delivered",
         "2018-05-17 16:59:11",
         "2018-05-18 01:17:39",
         "2018-05-18 13:02:00",
         "2018-05-21 15:22:11",
         "2018-05-25 00:00:00",
         "2018-05-17"
        ],
        [
         "48",
         "5820a1100976432c7968a52da59e9364",
         "2b56e94c2f66f2d97cfa63356f69cee8",
         "delivered",
         "2018-07-29 11:24:17",
         "2018-07-29 11:44:19",
         "2018-07-30 13:47:00",
         "2018-08-02 22:09:11",
         "2018-08-13 00:00:00",
         "2018-07-29"
        ],
        [
         "49",
         "2ce1ad82022c1ba30c2079502ac725aa",
         "7f2178c5d771e17f507d3c1637339298",
         "delivered",
         "2017-08-09 20:19:05",
         "2017-08-11 04:15:29",
         "2017-08-11 17:52:32",
         "2017-08-16 17:16:44",
         "2017-08-31 00:00:00",
         "2017-08-09"
        ]
       ],
       "shape": {
        "columns": 9,
        "rows": 99441
       }
      },
      "text/html": [
       "<div>\n",
       "<style scoped>\n",
       "    .dataframe tbody tr th:only-of-type {\n",
       "        vertical-align: middle;\n",
       "    }\n",
       "\n",
       "    .dataframe tbody tr th {\n",
       "        vertical-align: top;\n",
       "    }\n",
       "\n",
       "    .dataframe thead th {\n",
       "        text-align: right;\n",
       "    }\n",
       "</style>\n",
       "<table border=\"1\" class=\"dataframe\">\n",
       "  <thead>\n",
       "    <tr style=\"text-align: right;\">\n",
       "      <th></th>\n",
       "      <th>order_id</th>\n",
       "      <th>customer_id</th>\n",
       "      <th>order_status</th>\n",
       "      <th>order_purchase_timestamp</th>\n",
       "      <th>order_approved_at</th>\n",
       "      <th>order_delivered_carrier_date</th>\n",
       "      <th>order_delivered_customer_date</th>\n",
       "      <th>order_estimated_delivery_date</th>\n",
       "      <th>order_purchase_timestamp_date</th>\n",
       "    </tr>\n",
       "  </thead>\n",
       "  <tbody>\n",
       "    <tr>\n",
       "      <th>0</th>\n",
       "      <td>e481f51cbdc54678b7cc49136f2d6af7</td>\n",
       "      <td>9ef432eb6251297304e76186b10a928d</td>\n",
       "      <td>delivered</td>\n",
       "      <td>2017-10-02 10:56:33</td>\n",
       "      <td>2017-10-02 11:07:15</td>\n",
       "      <td>2017-10-04 19:55:00</td>\n",
       "      <td>2017-10-10 21:25:13</td>\n",
       "      <td>2017-10-18</td>\n",
       "      <td>2017-10-02</td>\n",
       "    </tr>\n",
       "    <tr>\n",
       "      <th>1</th>\n",
       "      <td>53cdb2fc8bc7dce0b6741e2150273451</td>\n",
       "      <td>b0830fb4747a6c6d20dea0b8c802d7ef</td>\n",
       "      <td>delivered</td>\n",
       "      <td>2018-07-24 20:41:37</td>\n",
       "      <td>2018-07-26 03:24:27</td>\n",
       "      <td>2018-07-26 14:31:00</td>\n",
       "      <td>2018-08-07 15:27:45</td>\n",
       "      <td>2018-08-13</td>\n",
       "      <td>2018-07-24</td>\n",
       "    </tr>\n",
       "    <tr>\n",
       "      <th>2</th>\n",
       "      <td>47770eb9100c2d0c44946d9cf07ec65d</td>\n",
       "      <td>41ce2a54c0b03bf3443c3d931a367089</td>\n",
       "      <td>delivered</td>\n",
       "      <td>2018-08-08 08:38:49</td>\n",
       "      <td>2018-08-08 08:55:23</td>\n",
       "      <td>2018-08-08 13:50:00</td>\n",
       "      <td>2018-08-17 18:06:29</td>\n",
       "      <td>2018-09-04</td>\n",
       "      <td>2018-08-08</td>\n",
       "    </tr>\n",
       "    <tr>\n",
       "      <th>3</th>\n",
       "      <td>949d5b44dbf5de918fe9c16f97b45f8a</td>\n",
       "      <td>f88197465ea7920adcdbec7375364d82</td>\n",
       "      <td>delivered</td>\n",
       "      <td>2017-11-18 19:28:06</td>\n",
       "      <td>2017-11-18 19:45:59</td>\n",
       "      <td>2017-11-22 13:39:59</td>\n",
       "      <td>2017-12-02 00:28:42</td>\n",
       "      <td>2017-12-15</td>\n",
       "      <td>2017-11-18</td>\n",
       "    </tr>\n",
       "    <tr>\n",
       "      <th>4</th>\n",
       "      <td>ad21c59c0840e6cb83a9ceb5573f8159</td>\n",
       "      <td>8ab97904e6daea8866dbdbc4fb7aad2c</td>\n",
       "      <td>delivered</td>\n",
       "      <td>2018-02-13 21:18:39</td>\n",
       "      <td>2018-02-13 22:20:29</td>\n",
       "      <td>2018-02-14 19:46:34</td>\n",
       "      <td>2018-02-16 18:17:02</td>\n",
       "      <td>2018-02-26</td>\n",
       "      <td>2018-02-13</td>\n",
       "    </tr>\n",
       "    <tr>\n",
       "      <th>...</th>\n",
       "      <td>...</td>\n",
       "      <td>...</td>\n",
       "      <td>...</td>\n",
       "      <td>...</td>\n",
       "      <td>...</td>\n",
       "      <td>...</td>\n",
       "      <td>...</td>\n",
       "      <td>...</td>\n",
       "      <td>...</td>\n",
       "    </tr>\n",
       "    <tr>\n",
       "      <th>99436</th>\n",
       "      <td>9c5dedf39a927c1b2549525ed64a053c</td>\n",
       "      <td>39bd1228ee8140590ac3aca26f2dfe00</td>\n",
       "      <td>delivered</td>\n",
       "      <td>2017-03-09 09:54:05</td>\n",
       "      <td>2017-03-09 09:54:05</td>\n",
       "      <td>2017-03-10 11:18:03</td>\n",
       "      <td>2017-03-17 15:08:01</td>\n",
       "      <td>2017-03-28</td>\n",
       "      <td>2017-03-09</td>\n",
       "    </tr>\n",
       "    <tr>\n",
       "      <th>99437</th>\n",
       "      <td>63943bddc261676b46f01ca7ac2f7bd8</td>\n",
       "      <td>1fca14ff2861355f6e5f14306ff977a7</td>\n",
       "      <td>delivered</td>\n",
       "      <td>2018-02-06 12:58:58</td>\n",
       "      <td>2018-02-06 13:10:37</td>\n",
       "      <td>2018-02-07 23:22:42</td>\n",
       "      <td>2018-02-28 17:37:56</td>\n",
       "      <td>2018-03-02</td>\n",
       "      <td>2018-02-06</td>\n",
       "    </tr>\n",
       "    <tr>\n",
       "      <th>99438</th>\n",
       "      <td>83c1379a015df1e13d02aae0204711ab</td>\n",
       "      <td>1aa71eb042121263aafbe80c1b562c9c</td>\n",
       "      <td>delivered</td>\n",
       "      <td>2017-08-27 14:46:43</td>\n",
       "      <td>2017-08-27 15:04:16</td>\n",
       "      <td>2017-08-28 20:52:26</td>\n",
       "      <td>2017-09-21 11:24:17</td>\n",
       "      <td>2017-09-27</td>\n",
       "      <td>2017-08-27</td>\n",
       "    </tr>\n",
       "    <tr>\n",
       "      <th>99439</th>\n",
       "      <td>11c177c8e97725db2631073c19f07b62</td>\n",
       "      <td>b331b74b18dc79bcdf6532d51e1637c1</td>\n",
       "      <td>delivered</td>\n",
       "      <td>2018-01-08 21:28:27</td>\n",
       "      <td>2018-01-08 21:36:21</td>\n",
       "      <td>2018-01-12 15:35:03</td>\n",
       "      <td>2018-01-25 23:32:54</td>\n",
       "      <td>2018-02-15</td>\n",
       "      <td>2018-01-08</td>\n",
       "    </tr>\n",
       "    <tr>\n",
       "      <th>99440</th>\n",
       "      <td>66dea50a8b16d9b4dee7af250b4be1a5</td>\n",
       "      <td>edb027a75a1449115f6b43211ae02a24</td>\n",
       "      <td>delivered</td>\n",
       "      <td>2018-03-08 20:57:30</td>\n",
       "      <td>2018-03-09 11:20:28</td>\n",
       "      <td>2018-03-09 22:11:59</td>\n",
       "      <td>2018-03-16 13:08:30</td>\n",
       "      <td>2018-04-03</td>\n",
       "      <td>2018-03-08</td>\n",
       "    </tr>\n",
       "  </tbody>\n",
       "</table>\n",
       "<p>99441 rows × 9 columns</p>\n",
       "</div>"
      ],
      "text/plain": [
       "                               order_id                       customer_id  \\\n",
       "0      e481f51cbdc54678b7cc49136f2d6af7  9ef432eb6251297304e76186b10a928d   \n",
       "1      53cdb2fc8bc7dce0b6741e2150273451  b0830fb4747a6c6d20dea0b8c802d7ef   \n",
       "2      47770eb9100c2d0c44946d9cf07ec65d  41ce2a54c0b03bf3443c3d931a367089   \n",
       "3      949d5b44dbf5de918fe9c16f97b45f8a  f88197465ea7920adcdbec7375364d82   \n",
       "4      ad21c59c0840e6cb83a9ceb5573f8159  8ab97904e6daea8866dbdbc4fb7aad2c   \n",
       "...                                 ...                               ...   \n",
       "99436  9c5dedf39a927c1b2549525ed64a053c  39bd1228ee8140590ac3aca26f2dfe00   \n",
       "99437  63943bddc261676b46f01ca7ac2f7bd8  1fca14ff2861355f6e5f14306ff977a7   \n",
       "99438  83c1379a015df1e13d02aae0204711ab  1aa71eb042121263aafbe80c1b562c9c   \n",
       "99439  11c177c8e97725db2631073c19f07b62  b331b74b18dc79bcdf6532d51e1637c1   \n",
       "99440  66dea50a8b16d9b4dee7af250b4be1a5  edb027a75a1449115f6b43211ae02a24   \n",
       "\n",
       "      order_status order_purchase_timestamp   order_approved_at  \\\n",
       "0        delivered      2017-10-02 10:56:33 2017-10-02 11:07:15   \n",
       "1        delivered      2018-07-24 20:41:37 2018-07-26 03:24:27   \n",
       "2        delivered      2018-08-08 08:38:49 2018-08-08 08:55:23   \n",
       "3        delivered      2017-11-18 19:28:06 2017-11-18 19:45:59   \n",
       "4        delivered      2018-02-13 21:18:39 2018-02-13 22:20:29   \n",
       "...            ...                      ...                 ...   \n",
       "99436    delivered      2017-03-09 09:54:05 2017-03-09 09:54:05   \n",
       "99437    delivered      2018-02-06 12:58:58 2018-02-06 13:10:37   \n",
       "99438    delivered      2017-08-27 14:46:43 2017-08-27 15:04:16   \n",
       "99439    delivered      2018-01-08 21:28:27 2018-01-08 21:36:21   \n",
       "99440    delivered      2018-03-08 20:57:30 2018-03-09 11:20:28   \n",
       "\n",
       "      order_delivered_carrier_date order_delivered_customer_date  \\\n",
       "0              2017-10-04 19:55:00           2017-10-10 21:25:13   \n",
       "1              2018-07-26 14:31:00           2018-08-07 15:27:45   \n",
       "2              2018-08-08 13:50:00           2018-08-17 18:06:29   \n",
       "3              2017-11-22 13:39:59           2017-12-02 00:28:42   \n",
       "4              2018-02-14 19:46:34           2018-02-16 18:17:02   \n",
       "...                            ...                           ...   \n",
       "99436          2017-03-10 11:18:03           2017-03-17 15:08:01   \n",
       "99437          2018-02-07 23:22:42           2018-02-28 17:37:56   \n",
       "99438          2017-08-28 20:52:26           2017-09-21 11:24:17   \n",
       "99439          2018-01-12 15:35:03           2018-01-25 23:32:54   \n",
       "99440          2018-03-09 22:11:59           2018-03-16 13:08:30   \n",
       "\n",
       "      order_estimated_delivery_date order_purchase_timestamp_date  \n",
       "0                        2017-10-18                    2017-10-02  \n",
       "1                        2018-08-13                    2018-07-24  \n",
       "2                        2018-09-04                    2018-08-08  \n",
       "3                        2017-12-15                    2017-11-18  \n",
       "4                        2018-02-26                    2018-02-13  \n",
       "...                             ...                           ...  \n",
       "99436                    2017-03-28                    2017-03-09  \n",
       "99437                    2018-03-02                    2018-02-06  \n",
       "99438                    2017-09-27                    2017-08-27  \n",
       "99439                    2018-02-15                    2018-01-08  \n",
       "99440                    2018-04-03                    2018-03-08  \n",
       "\n",
       "[99441 rows x 9 columns]"
      ]
     },
     "execution_count": 48,
     "metadata": {},
     "output_type": "execute_result"
    }
   ],
   "source": [
    "df_orders_wo_hour_timestamp = df_orders.copy()\n",
    "df_orders_wo_hour_timestamp['order_purchase_timestamp_date'] = df_orders_wo_hour_timestamp['order_purchase_timestamp'].dt.date\n",
    "df_orders_wo_hour_timestamp"
   ]
  },
  {
   "cell_type": "code",
   "execution_count": 49,
   "id": "1ed8d7fa",
   "metadata": {},
   "outputs": [
    {
     "data": {
      "text/plain": [
       "order_purchase_timestamp_date\n",
       "2017-11-24    1176\n",
       "2017-11-25     499\n",
       "2017-11-27     403\n",
       "2017-11-26     391\n",
       "2017-11-28     380\n",
       "              ... \n",
       "2018-09-29       1\n",
       "2018-10-01       1\n",
       "2018-10-03       1\n",
       "2018-10-16       1\n",
       "2018-10-17       1\n",
       "Length: 634, dtype: int64"
      ]
     },
     "execution_count": 49,
     "metadata": {},
     "output_type": "execute_result"
    }
   ],
   "source": [
    "most_selled_day = df_orders_wo_hour_timestamp[['order_id', 'order_purchase_timestamp_date']].groupby(by=['order_purchase_timestamp_date']).size().sort_values(ascending=False)\n",
    "most_selled_day"
   ]
  },
  {
   "cell_type": "markdown",
   "id": "b6414b61",
   "metadata": {},
   "source": [
    "#### - Productos más vendidos"
   ]
  },
  {
   "cell_type": "code",
   "execution_count": 52,
   "id": "a13184a6",
   "metadata": {},
   "outputs": [
    {
     "data": {
      "application/vnd.microsoft.datawrangler.viewer.v0+json": {
       "columns": [
        {
         "name": "order_id",
         "rawType": "object",
         "type": "string"
        },
        {
         "name": "payment_value",
         "rawType": "float64",
         "type": "float"
        }
       ],
       "conversionMethod": "pd.DataFrame",
       "ref": "2b00cbc2-36aa-4527-8b42-e49ebdae6fa0",
       "rows": [
        [
         "00010242fe8c5a6d1ba2dd792cb16214",
         "72.19"
        ],
        [
         "00018f77f2f0320c557190d7a144bdd3",
         "259.83"
        ],
        [
         "000229ec398224ef6ca0657da4fc703e",
         "216.87"
        ],
        [
         "00024acbcdf0a6daa1e931b038114c75",
         "25.78"
        ],
        [
         "00042b26cf59d7ce69dfabb4e55b4fd9",
         "218.04"
        ],
        [
         "00048cc3ae777c65dbb7d2a0634bc1ea",
         "34.59"
        ],
        [
         "00054e8431b9d7675808bcb819fb4a32",
         "31.75"
        ],
        [
         "000576fe39319847cbb9d288c5617fa6",
         "880.75"
        ],
        [
         "0005a1a1728c9d785b8e2b08b904576c",
         "157.6"
        ],
        [
         "0005f50442cb953dcd1d21e1fb923495",
         "65.39"
        ],
        [
         "00061f2a7bc09da83e415a52dc8a4af1",
         "68.87"
        ],
        [
         "00063b381e2406b52ad429470734ebd5",
         "57.98"
        ],
        [
         "0006ec9db01a64e59a68b2c340bf65a7",
         "97.32"
        ],
        [
         "0008288aa423d2a3f00fcb17cd7d8719",
         "126.54"
        ],
        [
         "0009792311464db532ff765bf7b182ae",
         "127.55"
        ],
        [
         "0009c9a17f916a706d71784483a5d643",
         "650.34"
        ],
        [
         "000aed2e25dbad2f9ddb70584c5a2ded",
         "152.77"
        ],
        [
         "000c3e6612759851cc3cbb4b83257986",
         "112.71"
        ],
        [
         "000e562887b1f2006d75e0be9558292e",
         "41.11"
        ],
        [
         "000e63d38ae8c00bbcb5a30573b99628",
         "56.78"
        ],
        [
         "000e906b789b55f64edcb1f84030f90d",
         "33.84"
        ],
        [
         "000f25f4d72195062c040b12dce9a18a",
         "164.39"
        ],
        [
         "001021efaa8636c29475e7734483457d",
         "64.1"
        ],
        [
         "0010b2e5201cc5f1ae7e9c6cc8f5bd00",
         "65.5"
        ],
        [
         "0010dedd556712d7bb69a19cb7bbd37a",
         "111.12"
        ],
        [
         "00119ff934e539cf26f92b9ef0cdfed8",
         "236.88"
        ],
        [
         "0011d82c4b53e22e84023405fb467e57",
         "315.33"
        ],
        [
         "00125cb692d04887809806618a2a145f",
         "135.41"
        ],
        [
         "00130c0eee84a3d909e75bc08c5c3ca1",
         "35.84"
        ],
        [
         "0013503b13da1eac686219390b7d641b",
         "137.22"
        ],
        [
         "00137e170939bba5a3134e2386413108",
         "421.65"
        ],
        [
         "001427c0ec99cf8af737bd88e92fd444",
         "83.25"
        ],
        [
         "00143d0f86d6fbd9f9b38ab440ac16f5",
         "109.29"
        ],
        [
         "0014ae671de39511f7575066200733b7",
         "30.6"
        ],
        [
         "0015ebb40fb17286bea51d4607c4733c",
         "37.0"
        ],
        [
         "00169e31ef4b29deaae414f9a5e95929",
         "55.11"
        ],
        [
         "0016dfedd97fc2950e388d2971d718c7",
         "70.55000000000001"
        ],
        [
         "0017afd5076e074a48f1f1a4c7bac9c5",
         "853.39"
        ],
        [
         "001862358bf858722e1e2ae000cfed8b",
         "113.71"
        ],
        [
         "0019c29108428acffd089c36103c9440",
         "79.85"
        ],
        [
         "001ab0a7578dd66cd4b0a71f5b6e1e41",
         "127.56"
        ],
        [
         "001ac194d4a326a6fa99b581e9a3d963",
         "62.54"
        ],
        [
         "001b76dd48a5b1eee3e87778daa40df8",
         "95.0"
        ],
        [
         "001c85b5f68d2be0cb0797afc9e8ce9a",
         "112.71"
        ],
        [
         "001d8f0e34a38c37f7dba2a37d4eba8b",
         "53.54"
        ],
        [
         "001daeb0eddc45b999bad0801ad9d273",
         "55.12"
        ],
        [
         "001dbc16dc51075e987543d23a0507c7",
         "87.9"
        ],
        [
         "001e7ba991be1b19605ca0316e7130f9",
         "213.21"
        ],
        [
         "001e7cf2ad6bef3ade12ebc56ceaf0f3",
         "51.1"
        ],
        [
         "0020262c8a370bd5a174ea6a2a267321",
         "100.55"
        ]
       ],
       "shape": {
        "columns": 1,
        "rows": 99440
       }
      },
      "text/html": [
       "<div>\n",
       "<style scoped>\n",
       "    .dataframe tbody tr th:only-of-type {\n",
       "        vertical-align: middle;\n",
       "    }\n",
       "\n",
       "    .dataframe tbody tr th {\n",
       "        vertical-align: top;\n",
       "    }\n",
       "\n",
       "    .dataframe thead th {\n",
       "        text-align: right;\n",
       "    }\n",
       "</style>\n",
       "<table border=\"1\" class=\"dataframe\">\n",
       "  <thead>\n",
       "    <tr style=\"text-align: right;\">\n",
       "      <th></th>\n",
       "      <th>payment_value</th>\n",
       "    </tr>\n",
       "    <tr>\n",
       "      <th>order_id</th>\n",
       "      <th></th>\n",
       "    </tr>\n",
       "  </thead>\n",
       "  <tbody>\n",
       "    <tr>\n",
       "      <th>00010242fe8c5a6d1ba2dd792cb16214</th>\n",
       "      <td>72.19</td>\n",
       "    </tr>\n",
       "    <tr>\n",
       "      <th>00018f77f2f0320c557190d7a144bdd3</th>\n",
       "      <td>259.83</td>\n",
       "    </tr>\n",
       "    <tr>\n",
       "      <th>000229ec398224ef6ca0657da4fc703e</th>\n",
       "      <td>216.87</td>\n",
       "    </tr>\n",
       "    <tr>\n",
       "      <th>00024acbcdf0a6daa1e931b038114c75</th>\n",
       "      <td>25.78</td>\n",
       "    </tr>\n",
       "    <tr>\n",
       "      <th>00042b26cf59d7ce69dfabb4e55b4fd9</th>\n",
       "      <td>218.04</td>\n",
       "    </tr>\n",
       "    <tr>\n",
       "      <th>...</th>\n",
       "      <td>...</td>\n",
       "    </tr>\n",
       "    <tr>\n",
       "      <th>fffc94f6ce00a00581880bf54a75a037</th>\n",
       "      <td>343.40</td>\n",
       "    </tr>\n",
       "    <tr>\n",
       "      <th>fffcd46ef2263f404302a634eb57f7eb</th>\n",
       "      <td>386.53</td>\n",
       "    </tr>\n",
       "    <tr>\n",
       "      <th>fffce4705a9662cd70adb13d4a31832d</th>\n",
       "      <td>116.85</td>\n",
       "    </tr>\n",
       "    <tr>\n",
       "      <th>fffe18544ffabc95dfada21779c9644f</th>\n",
       "      <td>64.71</td>\n",
       "    </tr>\n",
       "    <tr>\n",
       "      <th>fffe41c64501cc87c801fd61db3f6244</th>\n",
       "      <td>55.79</td>\n",
       "    </tr>\n",
       "  </tbody>\n",
       "</table>\n",
       "<p>99440 rows × 1 columns</p>\n",
       "</div>"
      ],
      "text/plain": [
       "                                  payment_value\n",
       "order_id                                       \n",
       "00010242fe8c5a6d1ba2dd792cb16214          72.19\n",
       "00018f77f2f0320c557190d7a144bdd3         259.83\n",
       "000229ec398224ef6ca0657da4fc703e         216.87\n",
       "00024acbcdf0a6daa1e931b038114c75          25.78\n",
       "00042b26cf59d7ce69dfabb4e55b4fd9         218.04\n",
       "...                                         ...\n",
       "fffc94f6ce00a00581880bf54a75a037         343.40\n",
       "fffcd46ef2263f404302a634eb57f7eb         386.53\n",
       "fffce4705a9662cd70adb13d4a31832d         116.85\n",
       "fffe18544ffabc95dfada21779c9644f          64.71\n",
       "fffe41c64501cc87c801fd61db3f6244          55.79\n",
       "\n",
       "[99440 rows x 1 columns]"
      ]
     },
     "execution_count": 52,
     "metadata": {},
     "output_type": "execute_result"
    }
   ],
   "source": [
    "top_10_productos_mas_vendidos = df_order_payments.groupby(by=['order_id'])['payment_value'].sum().to_frame()\n",
    "top_10_productos_mas_vendidos"
   ]
  },
  {
   "cell_type": "markdown",
   "id": "810a8811",
   "metadata": {},
   "source": [
    "#### - Productos más vendidos por meses"
   ]
  },
  {
   "cell_type": "code",
   "execution_count": null,
   "id": "58150299",
   "metadata": {},
   "outputs": [],
   "source": []
  },
  {
   "cell_type": "markdown",
   "id": "5b17abf0",
   "metadata": {},
   "source": [
    "#### - Ganancia por producto"
   ]
  },
  {
   "cell_type": "code",
   "execution_count": null,
   "id": "03c2e2a3",
   "metadata": {},
   "outputs": [],
   "source": []
  },
  {
   "cell_type": "markdown",
   "id": "e43956b6",
   "metadata": {},
   "source": [
    "#### - Ganancias mensuales / anuales"
   ]
  },
  {
   "cell_type": "code",
   "execution_count": null,
   "id": "2320b108",
   "metadata": {},
   "outputs": [],
   "source": []
  },
  {
   "cell_type": "markdown",
   "id": "5b630dcc",
   "metadata": {},
   "source": [
    "#### - Zonas en las que se genera más dinero"
   ]
  },
  {
   "cell_type": "code",
   "execution_count": null,
   "id": "e60b1096",
   "metadata": {},
   "outputs": [],
   "source": []
  },
  {
   "cell_type": "markdown",
   "id": "7c3c8207",
   "metadata": {},
   "source": [
    "#### - Dinero generado por producto"
   ]
  },
  {
   "cell_type": "code",
   "execution_count": null,
   "id": "9f3f6a62",
   "metadata": {},
   "outputs": [],
   "source": []
  }
 ],
 "metadata": {
  "kernelspec": {
   "display_name": ".venv",
   "language": "python",
   "name": "python3"
  },
  "language_info": {
   "codemirror_mode": {
    "name": "ipython",
    "version": 3
   },
   "file_extension": ".py",
   "mimetype": "text/x-python",
   "name": "python",
   "nbconvert_exporter": "python",
   "pygments_lexer": "ipython3",
   "version": "3.11.9"
  }
 },
 "nbformat": 4,
 "nbformat_minor": 5
}
