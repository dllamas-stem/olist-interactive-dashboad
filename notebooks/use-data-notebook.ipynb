{
 "cells": [
  {
   "cell_type": "code",
   "execution_count": 22,
   "id": "1670ed4e",
   "metadata": {},
   "outputs": [
    {
     "name": "stdout",
     "output_type": "stream",
     "text": [
      "clean_customers.csv\n",
      "clean_delivered_orders.csv\n",
      "clean_not_approved_orders.csv\n",
      "clean_not_delivered_orders.csv\n",
      "clean_not_picked_up_orders.csv\n",
      "clean_order_items.csv\n",
      "clean_order_payments.csv\n",
      "clean_order_reviews_review_comments_no_null.csv\n",
      "clean_products.csv\n",
      "clean_sellers.csv\n",
      "clean_translations.csv\n",
      "----------------------------------------------\n",
      "df_customers\n",
      "df_delivered_orders\n",
      "df_not_approved_orders\n",
      "df_not_delivered_orders\n",
      "df_not_picked_up_orders\n",
      "df_order_items\n",
      "df_order_payments\n",
      "df_order_reviews_review_comments_no_null\n",
      "df_products\n",
      "df_sellers\n",
      "df_translations\n"
     ]
    },
    {
     "data": {
      "text/plain": [
       "[None, None, None, None, None, None, None, None, None, None, None]"
      ]
     },
     "execution_count": 22,
     "metadata": {},
     "output_type": "execute_result"
    }
   ],
   "source": [
    "import os\n",
    "import pandas as pd\n",
    "\n",
    "all_csv = os.listdir('../resources/clean_data')\n",
    "\n",
    "variables_names = [f'df_{csv_name[6:-4]}' for csv_name in all_csv]\n",
    "[print(csv_name) for csv_name in all_csv]\n",
    "print('----------------------------------------------')\n",
    "[print(variable_name) for variable_name in variables_names]"
   ]
  },
  {
   "cell_type": "code",
   "execution_count": 23,
   "id": "e50fff54",
   "metadata": {},
   "outputs": [],
   "source": [
    "clean_data_dir_prefix = '../resources/clean_data/{}'\n",
    "df_customers = pd.read_csv(clean_data_dir_prefix.format('clean_customers.csv'), encoding='utf-8', sep=';')\n",
    "df_delivered_orders = pd.read_csv(clean_data_dir_prefix.format('clean_delivered_orders.csv'), encoding='utf-8', sep=';')\n",
    "df_not_approved_orders = pd.read_csv(clean_data_dir_prefix.format('clean_not_approved_orders.csv'), encoding='utf-8', sep=';')\n",
    "df_not_delivered_orders = pd.read_csv(clean_data_dir_prefix.format('clean_not_delivered_orders.csv'), encoding='utf-8', sep=';')\n",
    "df_not_picked_up_orders = pd.read_csv(clean_data_dir_prefix.format('clean_not_picked_up_orders.csv'), encoding='utf-8', sep=';')\n",
    "df_order_items = pd.read_csv(clean_data_dir_prefix.format('clean_order_items.csv'), encoding='utf-8', sep=';')\n",
    "df_order_payments = pd.read_csv(clean_data_dir_prefix.format('clean_order_payments.csv'), encoding='utf-8', sep=';')\n",
    "df_order_reviews_review_comments_no_null = pd.read_csv(clean_data_dir_prefix.format('clean_order_reviews_review_comments_no_null.csv'), encoding='utf-8', sep=';')\n",
    "df_products = pd.read_csv(clean_data_dir_prefix.format('clean_products.csv'), encoding='utf-8', sep=';')\n",
    "df_sellers = pd.read_csv(clean_data_dir_prefix.format('clean_sellers.csv'), encoding='utf-8', sep=';')\n",
    "df_translations = pd.read_csv(clean_data_dir_prefix.format('clean_translations.csv'), encoding='utf-8', sep=';')\n"
   ]
  }
 ],
 "metadata": {
  "kernelspec": {
   "display_name": ".venv",
   "language": "python",
   "name": "python3"
  },
  "language_info": {
   "codemirror_mode": {
    "name": "ipython",
    "version": 3
   },
   "file_extension": ".py",
   "mimetype": "text/x-python",
   "name": "python",
   "nbconvert_exporter": "python",
   "pygments_lexer": "ipython3",
   "version": "3.11.9"
  }
 },
 "nbformat": 4,
 "nbformat_minor": 5
}
